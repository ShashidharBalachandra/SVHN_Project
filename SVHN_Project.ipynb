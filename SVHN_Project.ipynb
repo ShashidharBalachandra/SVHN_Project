{
 "cells": [
  {
   "cell_type": "markdown",
   "metadata": {
    "colab_type": "text",
    "id": "u6YciorUErV_"
   },
   "source": [
    "# The Street View House Numbers (SVHN) Project\n",
    "Data set used : https://drive.google.com/file/d/1L2-WXzguhUsCArrFUc8EEkXcj33pahoS/view from Great Lakes \n",
    "submitted by : Shashidhar.B"
   ]
  },
  {
   "cell_type": "markdown",
   "metadata": {},
   "source": [
    "## Introduction\n",
    "In this hands-on project the goal is to build a python code for image classification from scratch to understand the nitty gritties of building and training a model and further to understand the advantages of neural networks. First we will implement a simple KNN classifier and later implement a Neural Network to classify the images in the SVHN dataset. We will compare the computational efficiency and accuracy between the traditional methods and neural networks."
   ]
  },
  {
   "cell_type": "markdown",
   "metadata": {},
   "source": [
    "## Objectives\n",
    "\n",
    "1)Understand the basic Image Classification pipeline and the data-driven approach (train/predict stages)\n",
    "\n",
    "2)Data fetching and understand the train/val/test splits.\n",
    "\n",
    "3)Implement and apply an optimal k-Nearest Neighbor (kNN) classifier.\n",
    "\n",
    "4)Print the classification metric report.\n",
    "\n",
    "5)Implement and apply a deep neural network classifier including (feedforward neural network, RELU activations)\n",
    "\n",
    "6)Understand and be able to implement (vectorized) backpropagation (cost stochastic gradient descent, cross entropy loss, cost functions)\n",
    "\n",
    "7)Implement batch normalization for training the neural network \n",
    "\n",
    "8)Understand the differences and trade-offs between traditional and NN classifiers with the help of classification metrics"
   ]
  },
  {
   "cell_type": "markdown",
   "metadata": {},
   "source": [
    "### Importing Necessary Packages"
   ]
  },
  {
   "cell_type": "code",
   "execution_count": 1,
   "metadata": {
    "colab": {},
    "colab_type": "code",
    "id": "-pCaQi7KErWW"
   },
   "outputs": [],
   "source": [
    "#For Numerial Operations numpy(Numerical Python) is used\n",
    "import numpy as np\n",
    "\n",
    "#For Data Analysis pandas(Python Data Analysis Library) is used\n",
    "import pandas as pd\n",
    "\n",
    "#For 2D graphs ploting matplotlib library is used\n",
    "import matplotlib.pyplot as plt\n",
    "#To enable matplotlib to plot in Jupyter Notebook\n",
    "%matplotlib inline\n",
    "\n",
    "#For better visualisation of Statistical Data seaborn library is used\n",
    "import seaborn as sns"
   ]
  },
  {
   "cell_type": "code",
   "execution_count": 2,
   "metadata": {},
   "outputs": [],
   "source": [
    "#To Split Train/Test data\n",
    "from sklearn.model_selection import train_test_split"
   ]
  },
  {
   "cell_type": "code",
   "execution_count": 3,
   "metadata": {
    "colab": {},
    "colab_type": "code",
    "id": "ncPBbV2dErWn"
   },
   "outputs": [],
   "source": [
    "# calculate accuracy measures and confusion matrix\n",
    "from sklearn.metrics import accuracy_score, confusion_matrix, recall_score, precision_score, f1_score, auc,roc_curve"
   ]
  },
  {
   "cell_type": "code",
   "execution_count": 5,
   "metadata": {
    "colab": {
     "base_uri": "https://localhost:8080/",
     "height": 34
    },
    "colab_type": "code",
    "id": "qXvlHxgkGnbz",
    "outputId": "ced97af4-4850-4dbf-944e-d2c2f69dd9f3"
   },
   "outputs": [
    {
     "ename": "ModuleNotFoundError",
     "evalue": "No module named 'keras'",
     "output_type": "error",
     "traceback": [
      "\u001b[1;31m---------------------------------------------------------------------------\u001b[0m",
      "\u001b[1;31mModuleNotFoundError\u001b[0m                       Traceback (most recent call last)",
      "\u001b[1;32m<ipython-input-5-66715afde452>\u001b[0m in \u001b[0;36m<module>\u001b[1;34m\u001b[0m\n\u001b[0;32m      6\u001b[0m \u001b[1;33m\u001b[0m\u001b[0m\n\u001b[0;32m      7\u001b[0m \u001b[1;31m#to enable fast experimentation with deep neural networks\u001b[0m\u001b[1;33m\u001b[0m\u001b[1;33m\u001b[0m\u001b[1;33m\u001b[0m\u001b[0m\n\u001b[1;32m----> 8\u001b[1;33m \u001b[1;32mimport\u001b[0m \u001b[0mkeras\u001b[0m\u001b[1;33m\u001b[0m\u001b[1;33m\u001b[0m\u001b[0m\n\u001b[0m\u001b[0;32m      9\u001b[0m \u001b[1;32mfrom\u001b[0m \u001b[0mkeras\u001b[0m\u001b[1;33m.\u001b[0m\u001b[0mmodels\u001b[0m \u001b[1;32mimport\u001b[0m \u001b[0mSequential\u001b[0m\u001b[1;33m\u001b[0m\u001b[1;33m\u001b[0m\u001b[0m\n\u001b[0;32m     10\u001b[0m \u001b[1;32mfrom\u001b[0m \u001b[0mkeras\u001b[0m\u001b[1;33m.\u001b[0m\u001b[0mutils\u001b[0m\u001b[1;33m.\u001b[0m\u001b[0mnp_utils\u001b[0m \u001b[1;32mimport\u001b[0m \u001b[0mto_categorical\u001b[0m\u001b[1;33m\u001b[0m\u001b[1;33m\u001b[0m\u001b[0m\n",
      "\u001b[1;31mModuleNotFoundError\u001b[0m: No module named 'keras'"
     ]
    }
   ],
   "source": [
    "#The h5py package is a Pythonic interface to the HDF5 binary data format\n",
    "import h5py\n",
    "\n",
    "# to create large-scale neural networks with many layers\n",
    "import tensorflow as tf\n",
    "\n",
    "#to enable fast experimentation with deep neural networks\n",
    "import keras\n",
    "from keras.models import Sequential\n",
    "from keras.utils.np_utils import to_categorical"
   ]
  },
  {
   "cell_type": "code",
   "execution_count": null,
   "metadata": {
    "colab": {},
    "colab_type": "code",
    "id": "SyolAlK9ErXJ"
   },
   "outputs": [],
   "source": [
    "#To ignore warnings for exceptional handling\n",
    "import warnings\n",
    "warnings.filterwarnings('ignore')"
   ]
  },
  {
   "cell_type": "code",
   "execution_count": null,
   "metadata": {
    "colab": {
     "base_uri": "https://localhost:8080/",
     "height": 34
    },
    "colab_type": "code",
    "id": "DQMwrkwTHzKv",
    "outputId": "54763bb0-bd29-41c4-c003-1736bd365a3c",
    "scrolled": true
   },
   "outputs": [],
   "source": [
    "#To handle higher workload \n",
    "from google.colab import drive\n",
    "drive.mount('/content/drive')"
   ]
  },
  {
   "cell_type": "code",
   "execution_count": null,
   "metadata": {
    "colab": {},
    "colab_type": "code",
    "id": "y9G9Z8P1IOQO"
   },
   "outputs": [],
   "source": [
    "h5FilePath =\"SHASHI\\Downloads\\Neural Networks\\project/SVHN_single_grey1.h5\""
   ]
  },
  {
   "cell_type": "markdown",
   "metadata": {
    "colab_type": "text",
    "id": "Ag-gbbQWErXZ"
   },
   "source": [
    "### Reading the dataset"
   ]
  },
  {
   "cell_type": "code",
   "execution_count": 5,
   "metadata": {
    "colab": {},
    "colab_type": "code",
    "id": "RjTCyp3vErXd"
   },
   "outputs": [
    {
     "ename": "NameError",
     "evalue": "name 'h5FilePath' is not defined",
     "output_type": "error",
     "traceback": [
      "\u001b[1;31m---------------------------------------------------------------------------\u001b[0m",
      "\u001b[1;31mNameError\u001b[0m                                 Traceback (most recent call last)",
      "\u001b[1;32m<ipython-input-5-b623f43ad024>\u001b[0m in \u001b[0;36m<module>\u001b[1;34m\u001b[0m\n\u001b[0;32m      1\u001b[0m \u001b[1;31m#Read SVHN data from h5 file\u001b[0m\u001b[1;33m\u001b[0m\u001b[1;33m\u001b[0m\u001b[1;33m\u001b[0m\u001b[0m\n\u001b[1;32m----> 2\u001b[1;33m \u001b[0msvhn_h5f\u001b[0m \u001b[1;33m=\u001b[0m \u001b[0mh5py\u001b[0m\u001b[1;33m.\u001b[0m\u001b[0mFile\u001b[0m\u001b[1;33m(\u001b[0m\u001b[0mh5FilePath\u001b[0m\u001b[1;33m,\u001b[0m\u001b[1;34m\"r\"\u001b[0m\u001b[1;33m)\u001b[0m\u001b[1;33m\u001b[0m\u001b[1;33m\u001b[0m\u001b[0m\n\u001b[0m",
      "\u001b[1;31mNameError\u001b[0m: name 'h5FilePath' is not defined"
     ]
    }
   ],
   "source": [
    "#Read SVHN data from h5 file\n",
    "svhn_h5f = h5py.File(h5FilePath,\"r\")"
   ]
  },
  {
   "cell_type": "code",
   "execution_count": 50,
   "metadata": {
    "colab": {
     "base_uri": "https://localhost:8080/",
     "height": 119
    },
    "colab_type": "code",
    "id": "dDtfQ7_bWfcj",
    "outputId": "77af13c3-b6ab-4fbe-b0cd-bf362c4422f2"
   },
   "outputs": [
    {
     "name": "stdout",
     "output_type": "stream",
     "text": [
      "X_test\n",
      "X_train\n",
      "X_val\n",
      "y_test\n",
      "y_train\n",
      "y_val\n"
     ]
    }
   ],
   "source": [
    "#Get Keys from h5py object\n",
    "keys=svhn_h5f.keys()\n",
    "for key in keys:\n",
    "    print(key)"
   ]
  },
  {
   "cell_type": "code",
   "execution_count": 0,
   "metadata": {
    "colab": {},
    "colab_type": "code",
    "id": "HTy7jUzZX3fx"
   },
   "outputs": [],
   "source": [
    "#Get Train, Test and Validation data along with Label\n",
    "X_train=svhn_h5f['X_train'][:]\n",
    "y_train=svhn_h5f['y_train'][:]\n",
    "\n",
    "X_test=svhn_h5f['X_test'][:]\n",
    "y_test=svhn_h5f['y_test'][:]\n",
    "\n",
    "X_val=svhn_h5f['X_val'][:]\n",
    "y_val=svhn_h5f['y_val'][:]"
   ]
  },
  {
   "cell_type": "code",
   "execution_count": 56,
   "metadata": {
    "colab": {
     "base_uri": "https://localhost:8080/",
     "height": 34
    },
    "colab_type": "code",
    "id": "bhTHlDuZboS6",
    "outputId": "789d4802-2b32-4b24-8c38-09382f27eaca"
   },
   "outputs": [
    {
     "data": {
      "text/plain": [
       "array([0, 1, 2, 3, 4, 5, 6, 7, 8, 9], dtype=uint8)"
      ]
     },
     "execution_count": 56,
     "metadata": {
      "tags": []
     },
     "output_type": "execute_result"
    }
   ],
   "source": [
    "#Get Train Y label unique value\n",
    "np.unique(y_train)"
   ]
  },
  {
   "cell_type": "code",
   "execution_count": 57,
   "metadata": {
    "colab": {
     "base_uri": "https://localhost:8080/",
     "height": 34
    },
    "colab_type": "code",
    "id": "9DYp4K30f9Sq",
    "outputId": "4f0f4ce4-5f23-4264-d1fa-dfbb1c348772"
   },
   "outputs": [
    {
     "data": {
      "text/plain": [
       "array([0, 1, 2, 3, 4, 5, 6, 7, 8, 9], dtype=uint8)"
      ]
     },
     "execution_count": 57,
     "metadata": {
      "tags": []
     },
     "output_type": "execute_result"
    }
   ],
   "source": [
    "#Get Test Y label unique value\n",
    "np.unique(y_test)"
   ]
  },
  {
   "cell_type": "code",
   "execution_count": 58,
   "metadata": {
    "colab": {
     "base_uri": "https://localhost:8080/",
     "height": 34
    },
    "colab_type": "code",
    "id": "xqfjIpIUgB7g",
    "outputId": "b51daa0b-21ff-44f9-ddab-032bcf0e1a0b"
   },
   "outputs": [
    {
     "data": {
      "text/plain": [
       "array([0, 1, 2, 3, 4, 5, 6, 7, 8, 9], dtype=uint8)"
      ]
     },
     "execution_count": 58,
     "metadata": {
      "tags": []
     },
     "output_type": "execute_result"
    }
   ],
   "source": [
    "#Get Test Y label unique value\n",
    "np.unique(y_val)"
   ]
  },
  {
   "cell_type": "code",
   "execution_count": 0,
   "metadata": {
    "colab": {},
    "colab_type": "code",
    "id": "x4_yEr1nErXs"
   },
   "outputs": [],
   "source": [
    "#Close h5 file\n",
    "svhn_h5f.close()"
   ]
  },
  {
   "cell_type": "code",
   "execution_count": 54,
   "metadata": {
    "colab": {
     "base_uri": "https://localhost:8080/",
     "height": 68
    },
    "colab_type": "code",
    "id": "QUIKYitUErYD",
    "outputId": "4f1a5e04-f24d-4b67-e82c-0612ae83b481"
   },
   "outputs": [
    {
     "name": "stdout",
     "output_type": "stream",
     "text": [
      "Training Set (42000, 32, 32) (42000,)\n",
      "Validation Set (60000, 32, 32) (60000,)\n",
      "Test Set (18000, 32, 32) (18000,)\n"
     ]
    }
   ],
   "source": [
    "print(\"Training Set\",X_train.shape, y_train.shape )\n",
    "print(\"Validation Set\",X_val.shape, y_val.shape )\n",
    "print(\"Test Set\",X_test.shape, y_test.shape )"
   ]
  },
  {
   "cell_type": "code",
   "execution_count": 55,
   "metadata": {
    "colab": {
     "base_uri": "https://localhost:8080/",
     "height": 287
    },
    "colab_type": "code",
    "id": "sobWZbN0a3XQ",
    "outputId": "91d5ee65-556a-4725-d005-e7967b8bbc11"
   },
   "outputs": [
    {
     "data": {
      "image/png": "[encoded data removed]",
      "text/plain": [
       "<Figure size 360x360 with 10 Axes>"
      ]
     },
     "metadata": {
      "tags": []
     },
     "output_type": "display_data"
    },
    {
     "name": "stdout",
     "output_type": "stream",
     "text": [
      "label for each of the above image:\n",
      " [2, 6, 7, 4, 4, 0, 3, 0, 7, 3]\n"
     ]
    }
   ],
   "source": [
    "# Visualize first 10 train data with label\n",
    "labels = []\n",
    "\n",
    "plt.figure(figsize=(5,5))\n",
    "for i in range(10):\n",
    "    plt.subplot(5,3,i+1)\n",
    "    plt.xticks([])\n",
    "    plt.yticks([])\n",
    "    plt.grid(False)\n",
    "    plt.imshow(X_train[i], cmap=plt.get_cmap('gray'))\n",
    "    lbl=y_train[i]\n",
    "    labels.append(lbl)\n",
    "plt.show()\n",
    "print(\"label for each of the above image:\\n\", labels)"
   ]
  },
  {
   "cell_type": "code",
   "execution_count": 0,
   "metadata": {
    "colab": {},
    "colab_type": "code",
    "id": "bJQ95RYpErYc",
    "outputId": "c283f978-0199-4d9f-f6f8-bb470e19769c"
   },
   "outputs": [
    {
     "data": {
      "text/plain": [
       "False"
      ]
     },
     "execution_count": 9,
     "metadata": {
      "tags": []
     },
     "output_type": "execute_result"
    }
   ],
   "source": [
    "#Check Missing value if any\n",
    "bank_df.isnull().values.any()"
   ]
  },
  {
   "cell_type": "markdown",
   "metadata": {
    "colab_type": "text",
    "id": "-VmeTRH6ErYq"
   },
   "source": [
    "### Converting train, test and validation data labels to vectors by one hot coading"
   ]
  },
  {
   "cell_type": "code",
   "execution_count": 0,
   "metadata": {
    "colab": {},
    "colab_type": "code",
    "id": "MHXjYhugErYu"
   },
   "outputs": [],
   "source": [
    "num_classes = 10 # No. of unique Label in the dataset (From 1 to 10)\n",
    "# Convert class vectors to binary class matrices\n",
    "y_train = keras.utils.to_categorical(y_train, num_classes)\n",
    "y_test = keras.utils.to_categorical(y_test, num_classes)\n",
    "y_val = keras.utils.to_categorical(y_val, num_classes)"
   ]
  },
  {
   "cell_type": "code",
   "execution_count": 61,
   "metadata": {
    "colab": {
     "base_uri": "https://localhost:8080/",
     "height": 136
    },
    "colab_type": "code",
    "id": "xHU-NWHyhI05",
    "outputId": "827c28e2-684e-4639-80b4-04741bc82cfb"
   },
   "outputs": [
    {
     "name": "stdout",
     "output_type": "stream",
     "text": [
      "(42000, 10)\n",
      "First 5 examples now are: \n",
      " [[0. 0. 1. 0. 0. 0. 0. 0. 0. 0.]\n",
      " [0. 0. 0. 0. 0. 0. 1. 0. 0. 0.]\n",
      " [0. 0. 0. 0. 0. 0. 0. 1. 0. 0.]\n",
      " [0. 0. 0. 0. 1. 0. 0. 0. 0. 0.]\n",
      " [0. 0. 0. 0. 1. 0. 0. 0. 0. 0.]]\n"
     ]
    }
   ],
   "source": [
    "print(y_train.shape)\n",
    "print('First 5 examples now are: \\n', y_train[0:5])"
   ]
  },
  {
   "cell_type": "markdown",
   "metadata": {
    "colab_type": "text",
    "id": "H5de90r-ErZI"
   },
   "source": [
    "### Normalizing the Train, Test and Validation image data from 0-255 to 0-1"
   ]
  },
  {
   "cell_type": "code",
   "execution_count": 0,
   "metadata": {
    "colab": {},
    "colab_type": "code",
    "id": "qlsU1zxwErZM"
   },
   "outputs": [],
   "source": [
    "X_train = X_train.astype('float32') / 255\n",
    "X_test = X_test.astype('float32') / 255\n",
    "X_val = X_val.astype('float32') / 255"
   ]
  },
  {
   "cell_type": "markdown",
   "metadata": {
    "colab_type": "text",
    "id": "ZJJYmLKlEraU"
   },
   "source": [
    "### Reshaping the data from 32x32 to 32x32x1 to match input dimensions in Conv2D layer in keras"
   ]
  },
  {
   "cell_type": "code",
   "execution_count": 0,
   "metadata": {
    "colab": {},
    "colab_type": "code",
    "id": "0ltfG8FfEraY"
   },
   "outputs": [],
   "source": [
    "# reshape dataset to have a single channel\n",
    "X_train = X_train.reshape((X_train.shape[0], 32, 32, 1))\n",
    "X_test = X_test.reshape((X_test.shape[0], 32, 32, 1))\n",
    "X_val = X_val.reshape((X_val.shape[0], 32, 32, 1))"
   ]
  },
  {
   "cell_type": "code",
   "execution_count": 64,
   "metadata": {
    "colab": {
     "base_uri": "https://localhost:8080/",
     "height": 68
    },
    "colab_type": "code",
    "id": "G_57uDq-Eram",
    "outputId": "cbe1a4d9-b12b-4e25-cc06-d022f013fe88"
   },
   "outputs": [
    {
     "name": "stdout",
     "output_type": "stream",
     "text": [
      "Training Set (42000, 32, 32, 1)\n",
      "Validation Set (60000, 32, 32, 1)\n",
      "Test Set (18000, 32, 32, 1)\n"
     ]
    }
   ],
   "source": [
    "print(\"Training Set\",X_train.shape )\n",
    "print(\"Validation Set\",X_val.shape )\n",
    "print(\"Test Set\",X_test.shape )"
   ]
  },
  {
   "cell_type": "markdown",
   "metadata": {
    "colab_type": "text",
    "id": "heCzjwdwErbR"
   },
   "source": [
    "### Building the Model"
   ]
  },
  {
   "cell_type": "code",
   "execution_count": 0,
   "metadata": {
    "colab": {},
    "colab_type": "code",
    "id": "FZ7rjKYaErba"
   },
   "outputs": [],
   "source": [
    "#Initialize model1\n",
    "model1 = tf.keras.models.Sequential()"
   ]
  },
  {
   "cell_type": "code",
   "execution_count": 0,
   "metadata": {
    "colab": {},
    "colab_type": "code",
    "id": "eRTcfj1cjxXo"
   },
   "outputs": [],
   "source": [
    "model1.add(tf.keras.layers.Conv2D(32, kernel_size=(3,3), activation='relu', input_shape=(32, 32, 1)))\n",
    "model1.add(tf.keras.layers.Flatten())\n",
    "#Add - Dense Layer - 128 Nurons with Relu\n",
    "model1.add(tf.keras.layers.Dense(128, activation='relu'))\n",
    "#Add - Dense Layer/output layer - 10 Nurons with Softmax\n",
    "model1.add(tf.keras.layers.Dense(10, activation='softmax'))"
   ]
  },
  {
   "cell_type": "code",
   "execution_count": 0,
   "metadata": {
    "colab": {},
    "colab_type": "code",
    "id": "8G6nbH1wlGPP"
   },
   "outputs": [],
   "source": [
    "# compile model\n",
    "model1.compile(optimizer='sgd', loss='categorical_crossentropy', metrics=['accuracy'])"
   ]
  },
  {
   "cell_type": "code",
   "execution_count": 76,
   "metadata": {
    "colab": {
     "base_uri": "https://localhost:8080/",
     "height": 374
    },
    "colab_type": "code",
    "id": "UVfESS_7lpqh",
    "outputId": "8c4ad3b8-cc0e-4642-b1e8-f140084eea35"
   },
   "outputs": [
    {
     "name": "stdout",
     "output_type": "stream",
     "text": [
      "Train on 42000 samples, validate on 60000 samples\n",
      "Epoch 1/10\n",
      "42000/42000 [==============================] - 66s 2ms/sample - loss: 2.2521 - acc: 0.1830 - val_loss: 2.0587 - val_acc: 0.3280\n",
      "Epoch 2/10\n",
      "42000/42000 [==============================] - 66s 2ms/sample - loss: 1.5868 - acc: 0.5025 - val_loss: 1.3540 - val_acc: 0.5812\n",
      "Epoch 3/10\n",
      "42000/42000 [==============================] - 65s 2ms/sample - loss: 1.1759 - acc: 0.6402 - val_loss: 1.1430 - val_acc: 0.6375\n",
      "Epoch 4/10\n",
      "42000/42000 [==============================] - 66s 2ms/sample - loss: 1.0528 - acc: 0.6803 - val_loss: 1.0562 - val_acc: 0.6773\n",
      "Epoch 5/10\n",
      "42000/42000 [==============================] - 66s 2ms/sample - loss: 0.9678 - acc: 0.7069 - val_loss: 0.9986 - val_acc: 0.6922\n",
      "Epoch 6/10\n",
      "42000/42000 [==============================] - 65s 2ms/sample - loss: 0.9078 - acc: 0.7246 - val_loss: 0.9806 - val_acc: 0.7042\n",
      "Epoch 7/10\n",
      "42000/42000 [==============================] - 67s 2ms/sample - loss: 0.8518 - acc: 0.7441 - val_loss: 0.8530 - val_acc: 0.7439\n",
      "Epoch 8/10\n",
      "42000/42000 [==============================] - 67s 2ms/sample - loss: 0.8073 - acc: 0.7593 - val_loss: 0.9285 - val_acc: 0.7117\n",
      "Epoch 9/10\n",
      "42000/42000 [==============================] - 68s 2ms/sample - loss: 0.7728 - acc: 0.7701 - val_loss: 0.8266 - val_acc: 0.7554\n",
      "Epoch 10/10\n",
      "42000/42000 [==============================] - 66s 2ms/sample - loss: 0.7409 - acc: 0.7807 - val_loss: 0.7745 - val_acc: 0.7721\n"
     ]
    }
   ],
   "source": [
    "# Fit the model1 with 10 epochs and batch size 32 for train and validation data\n",
    "m1_history=model1.fit(X_train, y_train, \n",
    "          validation_data=(X_val, y_val), \n",
    "          epochs=10,\n",
    "          batch_size=32)"
   ]
  },
  {
   "cell_type": "code",
   "execution_count": 77,
   "metadata": {
    "colab": {
     "base_uri": "https://localhost:8080/",
     "height": 34
    },
    "colab_type": "code",
    "id": "yty5XSb2seA3",
    "outputId": "d0564c84-a470-4508-b6f2-e103cbef30b1"
   },
   "outputs": [
    {
     "name": "stdout",
     "output_type": "stream",
     "text": [
      "dict_keys(['loss', 'acc', 'val_loss', 'val_acc'])\n"
     ]
    }
   ],
   "source": [
    "# list all data in history\n",
    "print(m1_history.history.keys())"
   ]
  },
  {
   "cell_type": "markdown",
   "metadata": {
    "colab_type": "text",
    "id": "ktqKSQ9LErbq"
   },
   "source": [
    "### Plot Model1 Fit output for Train & Validation Data"
   ]
  },
  {
   "cell_type": "code",
   "execution_count": 80,
   "metadata": {
    "colab": {
     "base_uri": "https://localhost:8080/",
     "height": 573
    },
    "colab_type": "code",
    "id": "Bmbwn4E5Erbw",
    "outputId": "6d3f22b5-e240-42a2-bb62-c3f52dd91d68"
   },
   "outputs": [
    {
     "data": {
      "image/png": "[encoded data removed]",
      "text/plain": [
       "<Figure size 432x288 with 1 Axes>"
      ]
     },
     "metadata": {
      "tags": []
     },
     "output_type": "display_data"
    },
    {
     "data": {
      "image/png": "[encoded data removed]",
      "text/plain": [
       "<Figure size 432x288 with 1 Axes>"
      ]
     },
     "metadata": {
      "tags": []
     },
     "output_type": "display_data"
    }
   ],
   "source": [
    "\n",
    "# summarize history for accuracy\n",
    "plt.plot(m1_history.history['acc'])\n",
    "plt.plot(m1_history.history['val_acc'])\n",
    "plt.title('Model1 Accuracy')\n",
    "plt.ylabel('accuracy')\n",
    "plt.xlabel('epoch')\n",
    "plt.legend(['Train', 'Validation'], loc='upper left')\n",
    "plt.show()\n",
    "# summarize history for loss\n",
    "plt.plot(m1_history.history['loss'])\n",
    "plt.plot(m1_history.history['val_loss'])\n",
    "plt.title('Model1 Loss')\n",
    "plt.ylabel('loss')\n",
    "plt.xlabel('epoch')\n",
    "plt.legend(['Train', 'Validation'], loc='upper left')\n",
    "plt.show()"
   ]
  },
  {
   "cell_type": "markdown",
   "metadata": {
    "colab_type": "text",
    "id": "V5efmy56tuz5"
   },
   "source": [
    "### Evaluate Model1 with Test Data:"
   ]
  },
  {
   "cell_type": "code",
   "execution_count": 82,
   "metadata": {
    "colab": {
     "base_uri": "https://localhost:8080/",
     "height": 34
    },
    "colab_type": "code",
    "id": "H7xfXPl6ttcg",
    "outputId": "e3f487a1-0520-4d01-ee02-6307b03c023b"
   },
   "outputs": [
    {
     "name": "stdout",
     "output_type": "stream",
     "text": [
      "18000/18000 [==============================] - 5s 284us/sample - loss: 0.8375 - acc: 0.7576\n"
     ]
    }
   ],
   "source": [
    "model1_result=model1.evaluate(X_test,y_test,verbose=1)"
   ]
  },
  {
   "cell_type": "code",
   "execution_count": 83,
   "metadata": {
    "colab": {
     "base_uri": "https://localhost:8080/",
     "height": 34
    },
    "colab_type": "code",
    "id": "Yu8iiEfOuBHD",
    "outputId": "124fb458-7b37-4529-81bc-3fdb80cff6a8"
   },
   "outputs": [
    {
     "name": "stdout",
     "output_type": "stream",
     "text": [
      "Model Accuracy : 75.75555443763733\n"
     ]
    }
   ],
   "source": [
    "print(\"Model1 Accuracy : {0}\".format(model1_result[1]*100))"
   ]
  },
  {
   "cell_type": "code",
   "execution_count": 85,
   "metadata": {
    "colab": {
     "base_uri": "https://localhost:8080/",
     "height": 34
    },
    "colab_type": "code",
    "id": "0UKAB1l5uByx",
    "outputId": "dc4bb63f-cc35-4404-fdd3-2791369fbc0c"
   },
   "outputs": [
    {
     "name": "stdout",
     "output_type": "stream",
     "text": [
      "Model1 Loss : 83.75326020452711\n"
     ]
    }
   ],
   "source": [
    "print(\"Model1 Loss : {0}\".format(model1_result[0]*100))"
   ]
  },
  {
   "cell_type": "markdown",
   "metadata": {
    "colab_type": "text",
    "id": "FosO35Fttdrp"
   },
   "source": [
    "### Model1 Summary:"
   ]
  },
  {
   "cell_type": "code",
   "execution_count": 81,
   "metadata": {
    "colab": {
     "base_uri": "https://localhost:8080/",
     "height": 289
    },
    "colab_type": "code",
    "id": "lcCT__gctTdX",
    "outputId": "cad98244-b21e-46fb-9a5c-ecc720d5fd2c"
   },
   "outputs": [
    {
     "name": "stdout",
     "output_type": "stream",
     "text": [
      "Model: \"sequential_2\"\n",
      "_________________________________________________________________\n",
      "Layer (type)                 Output Shape              Param #   \n",
      "=================================================================\n",
      "conv2d_1 (Conv2D)            (None, 30, 30, 32)        320       \n",
      "_________________________________________________________________\n",
      "flatten_1 (Flatten)          (None, 28800)             0         \n",
      "_________________________________________________________________\n",
      "dense_2 (Dense)              (None, 128)               3686528   \n",
      "_________________________________________________________________\n",
      "dense_3 (Dense)              (None, 10)                1290      \n",
      "=================================================================\n",
      "Total params: 3,688,138\n",
      "Trainable params: 3,688,138\n",
      "Non-trainable params: 0\n",
      "_________________________________________________________________\n"
     ]
    }
   ],
   "source": [
    "### Model Summary:\n",
    "\n",
    "model1.summary()"
   ]
  }
 ],
 "metadata": {
  "colab": {
   "name": "NeuralNetwork&DL_R6_SVHN_Project2.ipynb",
   "provenance": []
  },
  "kernelspec": {
   "display_name": "Python 3",
   "language": "python",
   "name": "python3"
  },
  "language_info": {
   "codemirror_mode": {
    "name": "ipython",
    "version": 3
   },
   "file_extension": ".py",
   "mimetype": "text/x-python",
   "name": "python",
   "nbconvert_exporter": "python",
   "pygments_lexer": "ipython3",
   "version": "3.7.4"
  }
 },
 "nbformat": 4,
 "nbformat_minor": 1
}
